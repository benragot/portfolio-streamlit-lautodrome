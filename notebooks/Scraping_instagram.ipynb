{
 "cells": [
  {
   "cell_type": "code",
   "execution_count": 5,
   "id": "75b1582e-05e3-4a9d-8de5-9975dee7bd7f",
   "metadata": {},
   "outputs": [],
   "source": [
    "import instascrape"
   ]
  },
  {
   "cell_type": "code",
   "execution_count": null,
   "id": "713b32ec-8aa2-4b7b-88e5-2efb079f7860",
   "metadata": {},
   "outputs": [],
   "source": [
    "instascrape.()"
   ]
  },
  {
   "cell_type": "code",
   "execution_count": 77,
   "id": "66a3c7fc-ffc4-4f2f-af6b-583be70d6a57",
   "metadata": {},
   "outputs": [],
   "source": [
    "import os\n",
    "import random"
   ]
  },
  {
   "cell_type": "code",
   "execution_count": 93,
   "id": "5b37c66c-848e-4cd0-8796-fda2a634aaeb",
   "metadata": {
    "tags": []
   },
   "outputs": [
    {
     "data": {
      "text/plain": [
       "'2017-08-30_17-40-11_UTC_2.jpg'"
      ]
     },
     "execution_count": 93,
     "metadata": {},
     "output_type": "execute_result"
    }
   ],
   "source": [
    "images_names = os.listdir('../images/portfolio_instagram')\n",
    "images_names = [images_name for images_name in images_names if '.jpg' in images_name]\n",
    "images_names.remove('2017-01-16_21-42-18_UTC_profile_pic.jpg')\n",
    "images_names.sort()\n",
    "images_names = images_names[::-1]\n",
    "dico_images_descriptions = {}\n",
    "for images_name in images_names:\n",
    "    if '_2.jpg' in images_name:\n",
    "        with open('../images/portfolio_instagram/' + images_name[:-6] + '.txt') as f:\n",
    "            lines = f.readlines()\n",
    "            dico_images_descriptions[images_name] = lines[0].split('#')[0]\n",
    "    elif '_1.jpg' in images_name:\n",
    "        dico_images_descriptions[images_name] = ''\n",
    "    else:\n",
    "        with open('../images/portfolio_instagram/' + images_name[:-4] + '.txt') as f:\n",
    "            lines = f.readlines()\n",
    "            dico_images_descriptions[images_name] = lines[0].split('#')[0]\n"
   ]
  },
  {
   "cell_type": "code",
   "execution_count": 57,
   "id": "1770fd34-6327-49c9-b358-e6b0e8646b6a",
   "metadata": {
    "collapsed": true,
    "jupyter": {
     "outputs_hidden": true
    },
    "tags": []
   },
   "outputs": [
    {
     "data": {
      "text/plain": [
       "{'2016-12-16_15-02-37_UTC': 'Maserati V6 engined Citroën SM made with acrylic paint ',\n",
       " '2017-01-17_17-36-44_UTC': 'Acrylic painting of a 2016 Renault F1 ',\n",
       " '2017-02-14_11-19-29_UTC': \"Valentine's date - credit : unknown - am not the author \",\n",
       " '2017-03-23_17-54-37_UTC': 'In the making : acrylic painting of a (smiling) 991.2 GT3 ',\n",
       " '2016-12-27_14-15-04_UTC': 'Lamborghini Miura made with acrylic paint and markers, mainly from ',\n",
       " '2017-03-28_17-27-26_UTC': 'Acrylic paint and acrylic markers - 2016 Alonso McLaren Honda F1 car - Closer look ',\n",
       " '2017-07-18_18-12-42_UTC': 'Bugatti Chiron, acrylic paint and acrylic markers, slightely updated version. ',\n",
       " '2016-12-20_15-12-34_UTC': 'Basic practice acrylic painting from earlier this year, McLaren Honda MP4/7 ',\n",
       " '2017-08-29_17-32-34_UTC': 'Little drawing of the McLaren F1 family ',\n",
       " '2016-12-01_16-35-09_UTC': 'BMW 3.0 CSL ',\n",
       " '2017-01-04_13-41-21_UTC': 'Some minimalist drawing of an old Porsche 911, made with acrylic paint and markers. Inspired by the Singer 911. ',\n",
       " '2017-09-19_17-16-56_UTC': 'Lamborghini Miura, acrylic paint on paper, 65 x 50 cm. I may work on the background a bit more. ',\n",
       " '2017-03-08_18-22-07_UTC': 'Go for it ! - just, wear a helmet maybe ',\n",
       " '2017-01-11_20-59-39_UTC': 'Acrylic paint and markers - Saleen S7-R ',\n",
       " '2017-05-30_17-10-40_UTC': 'Little sketch of Michel Vaillant, because those illustrations from Jean Graton are so cool. Will paint. ',\n",
       " '2017-02-22_18-08-50_UTC': 'Practice acrylic painting - Porsche 918 Spyder ',\n",
       " '2017-08-30_17-48-46_UTC': \"Reproduction of a famous Graton's illustration from Michel Vaillant I made a couple of months ago, for my own pleasure. On canvas, two pieces of 50 x 50 cm. You can actually buy the official art from the michelvaillantartstrip online shop, not from me (for copyright reasons). \",\n",
       " '2017-01-26_14-39-13_UTC': 'Acrylic paint and acrylic markers / Peinture et marqueurs acryliques - Ferrari 250 GTO ',\n",
       " '2017-02-21_18-00-39_UTC': 'Acrylic markers on paper - The new Pagani Huayra roadster - ',\n",
       " '2016-12-04_19-02-06_UTC': 'Alfa Romeo Giulia QV - Acrylic paint  @alfaromeosportiva @alfa_romeo_fan_page @alfa_romeo_life @alfaromeo.giulia ',\n",
       " '2016-12-07_15-30-46_UTC': 'Practice acrylic painting from earlier this year - Audi R18 2016 ',\n",
       " '2017-07-19_18-10-45_UTC': 'Bugatti Chiron edited with a different set of colours. ',\n",
       " '2017-05-31_17-59-58_UTC': 'Lamborghini Miura - Acrylic spray paint and acrylic paint ',\n",
       " '2017-07-25_18-48-19_UTC': 'A Ford GT40 from the late 60s, ',\n",
       " '2017-01-31_14-04-44_UTC': 'Again some minimalism with this McLaren P1 ',\n",
       " '2017-04-27_17-01-18_UTC': 'Acrylic painting - BMW 3.0 CSL ',\n",
       " '2017-01-27_13-23-44_UTC': 'BMW M1, minimalist way - Acrylic based paint. ',\n",
       " '2017-02-10_14-42-04_UTC': 'A recent commission for @sinead_lawson, now at home in England - Acrilyc paint and acrylic markers on 200g paper - 42 x 60 cm - 2016 Alonso Mclaren-Honda Formula 1 ',\n",
       " '2017-02-24_13-39-03_UTC': 'Porsche 918 Spyder - Acrylic based paint ',\n",
       " '2016-12-01_15-32-03_UTC': '24 Heures du Mans 2016 - Scuderia Corsa - LM GTE Am ',\n",
       " '2017-01-24_14-59-39_UTC': 'Acrylic paint and markers on paper in blue tones for this  ',\n",
       " '2017-01-05_18-57-52_UTC': 'Acrylic paint and markers on paper for this Porsche 935 Martini Racing ',\n",
       " '2017-09-13_17-18-53_UTC': 'Acrylic painting of the Ferrari 250 SWB Sperimentale from the early 60s. On paper, 65 x 50 cm. Almost finished. ',\n",
       " '2017-02-28_13-33-52_UTC': 'I am more of a carguy but, that is a try. Classic Norton - Acrylic markers on acrylic spray paint ',\n",
       " '2017-02-09_14-09-17_UTC': 'Pagani Zonda - acrylic markers on spray paint - Minimalist ',\n",
       " '2016-12-01_15-26-07_UTC': '24 Heures du Mans 2016 - Ford GT LM GTE Pro ',\n",
       " '2016-12-03_14-35-02_UTC': 'Practice painting - BMW 3.0 CSL Hommage R Concept & original 3.0 CSL with watercolor pencils ',\n",
       " '2017-08-30_17-40-11_UTC': \"Reproduction of a famous Jean Graton's illustration from Michel Vaillant I made a couple of months ago, for my own pleasure. On canvas, two pieces of 50 x 50 cm. You can actually buy the official art from the michelvaillantartstrips online shop, not from me (for obvious copyright reasons). \",\n",
       " '2017-02-07_18-28-40_UTC': 'Quick drawing - Bugatti Veyron - Black and white acrylic markers on blue spray paint ',\n",
       " '2017-01-18_14-53-21_UTC': 'Acrylic paint and markers - Corvette C7.R ',\n",
       " '2016-12-21_14-16-20_UTC': 'A legend - Black and white Lamborghini Miura made with acrylic markers ',\n",
       " '2016-12-05_14-25-42_UTC': 'BMW M1 Procar Battle - Watercolor pencils - ',\n",
       " '2017-08-08_17-54-51_UTC': 'Acrylic painting of the recent Porsche 911 GT3, 991.2, on paper, 50x65 cm. ',\n",
       " '2017-03-16_18-15-15_UTC': 'Acrylic paint and markers - Porsche 919 Hybrid ',\n",
       " '2017-05-15_18-26-04_UTC': 'BMW M1 - Handmade - Minimalist - Acrylic based paint ',\n",
       " '2017-06-01_19-04-44_UTC': 'Acrylic paint on acrylic spray paint - Lamborghini 350GT ',\n",
       " '2017-07-27_21-39-01_UTC': 'Big shout-out to @eyesupautoart. He hit me up several months ago to paint the same car as a collab. We chose the GT40 and one picture. And without further consultation, we ended up with those two pieces. Nice to see the different styles expressed through the paint while we have sort of a similar approach at first. As for differences, he uses canvas and brushes, I mainly use paper, spray paint and acrylic markers. Give him a follow @eyesupautoart ! ',\n",
       " '2016-12-20_15-26-05_UTC': 'Minimalist drawing of a burning out Mercedes C63 AMG ',\n",
       " '2017-03-07_18-27-02_UTC': 'Pencil drawing in the process - Classic McLaren M2B Formula 1 & 570S ',\n",
       " '2017-02-15_13-50-09_UTC': 'Acrylic markers on grey spray acrylic paint - Lamborghini Countach LP 5000 S ',\n",
       " '2017-01-02_15-23-07_UTC': 'The 1975 BMW 3.0 CSL Art Car painted by Alexander Calder painted by me. Acrylic paint and markers. ',\n",
       " '2017-03-09_18-48-49_UTC': 'Pencil drawing - Classic McLaren M2B Formula 1 & 570S ',\n",
       " '2017-03-18_13-42-07_UTC': 'Acrylic painting in the process - BMW M3 e92 ',\n",
       " '2017-01-30_18-27-30_UTC': 'BMW 507 roadster - Minimalist - Acrylic based paint and markers. ',\n",
       " '2017-04-01_12-33-41_UTC': \"Acrylic painting of a 991.2 GT3 - I tried some more 'realistic' painting this time - Not quite finished yet \",\n",
       " '2016-12-13_15-25-37_UTC': 'Acrylic painting of the Lola T70 MkIII racer from the late 60s, A3 format. ',\n",
       " '2017-08-23_17-06-29_UTC': 'Acrylic painting of a Porsche 911 (964) Turbo. Made on paper, 65 x 50 cm. ',\n",
       " '2017-04-20_17-09-59_UTC': 'Acrylic painting - Mclaren F1 ',\n",
       " '2017-02-14_16-46-01_UTC': 'Some \"in action\" Audi S1 Group B closeup ',\n",
       " '2017-02-16_18-22-06_UTC': 'Lamborghini Countach - Acrylic paint and markers ',\n",
       " '2016-12-28_15-58-31_UTC': 'The Bugatti Chiron, made with acrylic markers. ',\n",
       " '2016-12-28_15-56-28_UTC': 'The great Bugatti Type 57SC Atlantic, made with acrylic paint and markers. ',\n",
       " '2017-01-20_14-36-58_UTC': 'Handemade acrylic painting of the Mazda 787B ',\n",
       " '2017-01-09_14-06-48_UTC': 'Having some fun with the Ferrari FXXK. Acrylic paint and markers. ',\n",
       " '2017-01-25_14-34-16_UTC': 'Acrylic paint and markers - Alpine A110 ',\n",
       " '2017-02-17_13-07-54_UTC': 'Pagani Huayra - acrylic markers on spray paint - minimalist ',\n",
       " '2016-12-30_14-11-36_UTC': 'Part of an acrylic painting of the Porsche 917K ',\n",
       " '2016-12-09_15-31-15_UTC': 'Aston Martin DB5, with pencils and acrylic paint ',\n",
       " '2017-05-27_12-17-00_UTC': 'Practice acrylic painting of a classic Mini - Based on a shot from @floxxiewalker ',\n",
       " '2017-05-09_18-02-23_UTC': 'Acrylic paint on acrylic spray paint - Handmade - Peugeot 3008 DKR ',\n",
       " '2016-12-01_15-09-51_UTC': '24 Heures du Mans 2016 ',\n",
       " '2016-12-13_23-06-05_UTC': 'Simple drawing of the Nissan Skyline GT-R R34 made with some Faber-Castell PITT artist pen '}"
      ]
     },
     "execution_count": 57,
     "metadata": {},
     "output_type": "execute_result"
    }
   ],
   "source": [
    "list_images_descriptions = os.listdir('../images/portfolio_instagram')\n",
    "desc_names = []\n",
    "for file_name in os.listdir('../images/portfolio_instagram'):\n",
    "    if '.txt' in file_name:\n",
    "        desc_names.append(file_name)\n",
    "dico_images_descriptions = {}\n",
    "for desc_name in desc_names:\n",
    "    #print(desc_names)\n",
    "    with open('../images/portfolio_instagram/' + desc_name) as f:\n",
    "        lines = f.readlines()\n",
    "        dico_images_descriptions[desc_name[:-4]] = lines[0].split('#')[0]\n",
    "dico_images_descriptions"
   ]
  },
  {
   "cell_type": "code",
   "execution_count": 95,
   "id": "8a470301-bf8f-44ae-a62c-19e777739ebe",
   "metadata": {},
   "outputs": [
    {
     "name": "stdout",
     "output_type": "stream",
     "text": [
      "Mail Sent\n"
     ]
    }
   ],
   "source": [
    "import smtplib\n",
    "from email.mime.multipart import MIMEMultipart\n",
    "from email.mime.text import MIMEText\n",
    "mail_content = '''Hello,\n",
    "This is a simple mail. There is only text, no attachments are there The mail is sent using Python SMTP library.\n",
    "Thank You'''\n",
    "\n",
    "#The mail addresses and password\n",
    "sender_address = 'benjamin.ragot53@gmail.com'\n",
    "sender_pass = 'c6f6uY65*&YBMr@2RTV&$d8R*'\n",
    "receiver_address = 'br.ragot@gmail.com'\n",
    "#Setup the MIME\n",
    "message = MIMEMultipart()\n",
    "message['From'] = sender_address\n",
    "message['To'] = receiver_address\n",
    "message['Subject'] = 'A test mail sent by Python. It has an attachment.'   #The subject line\n",
    "#The body and the attachments for the mail\n",
    "message.attach(MIMEText(mail_content, 'plain'))\n",
    "#Create SMTP session for sending the mail\n",
    "session = smtplib.SMTP('smtp.gmail.com', 587) #use gmail with port\n",
    "session.starttls() #enable security\n",
    "session.login(sender_address, sender_pass) #login with mail_id and password\n",
    "text = message.as_string()\n",
    "session.sendmail(sender_address, receiver_address, text)\n",
    "session.quit()\n",
    "print('Mail Sent')"
   ]
  },
  {
   "cell_type": "code",
   "execution_count": 96,
   "id": "d6c15b9c-6d9d-477a-9107-35f280aa204f",
   "metadata": {},
   "outputs": [
    {
     "ename": "ModuleNotFoundError",
     "evalue": "No module named 'redmail'",
     "output_type": "error",
     "traceback": [
      "\u001b[0;31m---------------------------------------------------------------------------\u001b[0m",
      "\u001b[0;31mModuleNotFoundError\u001b[0m                       Traceback (most recent call last)",
      "\u001b[0;32m/tmp/ipykernel_272646/1370514536.py\u001b[0m in \u001b[0;36m<module>\u001b[0;34m\u001b[0m\n\u001b[0;32m----> 1\u001b[0;31m \u001b[0;32mfrom\u001b[0m \u001b[0mredmail\u001b[0m \u001b[0;32mimport\u001b[0m \u001b[0mEmailSender\u001b[0m\u001b[0;34m\u001b[0m\u001b[0;34m\u001b[0m\u001b[0m\n\u001b[0m\u001b[1;32m      2\u001b[0m \u001b[0;34m\u001b[0m\u001b[0m\n\u001b[1;32m      3\u001b[0m \u001b[0memail\u001b[0m \u001b[0;34m=\u001b[0m \u001b[0mEmailSender\u001b[0m\u001b[0;34m(\u001b[0m\u001b[0mhost\u001b[0m\u001b[0;34m=\u001b[0m\u001b[0;34m\"localhost\"\u001b[0m\u001b[0;34m,\u001b[0m \u001b[0mport\u001b[0m\u001b[0;34m=\u001b[0m\u001b[0;36m0\u001b[0m\u001b[0;34m)\u001b[0m\u001b[0;34m\u001b[0m\u001b[0;34m\u001b[0m\u001b[0m\n\u001b[1;32m      4\u001b[0m \u001b[0;34m\u001b[0m\u001b[0m\n\u001b[1;32m      5\u001b[0m email.send(\n",
      "\u001b[0;31mModuleNotFoundError\u001b[0m: No module named 'redmail'"
     ]
    }
   ],
   "source": [
    "from redmail import EmailSender\n",
    "\n",
    "email = EmailSender(host=\"localhost\", port=0)\n",
    "\n",
    "email.send(\n",
    "    subject=\"An example email\",\n",
    "    sender=\"me@example.com\",\n",
    "    receivers=['br.ragot@gmail.com'],\n",
    "    text=\"Hello!\",\n",
    "    html=\"<h1>Hello!</h1>\"\n",
    ")"
   ]
  }
 ],
 "metadata": {
  "kernelspec": {
   "display_name": "Python 3 (ipykernel)",
   "language": "python",
   "name": "python3"
  },
  "language_info": {
   "codemirror_mode": {
    "name": "ipython",
    "version": 3
   },
   "file_extension": ".py",
   "mimetype": "text/x-python",
   "name": "python",
   "nbconvert_exporter": "python",
   "pygments_lexer": "ipython3",
   "version": "3.8.12"
  }
 },
 "nbformat": 4,
 "nbformat_minor": 5
}
